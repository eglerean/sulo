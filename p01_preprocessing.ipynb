{
 "cells": [
  {
   "cell_type": "markdown",
   "metadata": {},
   "source": [
    "## Step 1: Data preprocessing for SULO tool\n",
    "In this notebook we:\n",
    "1. load the raw data from the xlsx files\n",
    "2. convert empty values to NaN\n",
    "3. keep only the rows with column 1 ('LUPA KÄYTTÄÄ') == 1\n",
    "4. save the preprocessed data as DATA_filename.csv with NaN -> -1\n",
    "5. save the background factor data as BF_filename.csv with NaN -> -1\n"
   ]
  },
  {
   "cell_type": "code",
   "execution_count": 1,
   "metadata": {},
   "outputs": [
    {
     "name": "stdout",
     "output_type": "stream",
     "text": [
      "1.xlsx\n",
      "(142, 88)\n",
      "(95, 88)\n",
      "2.xlsx\n",
      "(139, 88)\n",
      "(86, 88)\n",
      "3.xlsx\n",
      "(111, 88)\n",
      "(70, 88)\n",
      "4.xlsx\n",
      "(164, 88)\n",
      "(69, 88)\n",
      "5.xlsx\n",
      "(136, 88)\n",
      "(92, 88)\n",
      "6.xlsx\n",
      "(151, 88)\n",
      "(83, 88)\n",
      "7.xlsx\n",
      "(114, 88)\n",
      "(74, 88)\n",
      "8.xlsx\n",
      "(212, 90)\n",
      "(105, 90)\n",
      "9.xlsx\n",
      "(171, 88)\n",
      "(100, 88)\n",
      "10.xlsx\n",
      "(487, 90)\n",
      "(347, 90)\n"
     ]
    }
   ],
   "source": [
    "import pandas as pd\n",
    "import numpy as np\n",
    "import os\n",
    "\n",
    "directory = os.fsencode('../data/valintakoek2019/')\n",
    "\n",
    "total_N = 0 # this variable will store the total number of participants data\n",
    "total_N_permit = 0 # this will store the subset of participants \n",
    "                   # who gave permission to use their answer for research\n",
    "total_N_nopermit = 0 # those who explicitly gave no permission\n",
    "for file in os.listdir(directory):\n",
    "    filename = os.fsdecode(file)\n",
    "    if filename.endswith(\".xlsx\"): \n",
    "        # loading the file with NaNs as empty values\n",
    "        # print(filename)\n",
    "        df = pd.read_excel('../data/valintakoek2019/'+filename, skip_blank_lines=False,header=None)\n",
    "        df = df.replace(r'^\\s*$', np.nan, regex=True)\n",
    "        # Print the size of the data loaded\n",
    "        # print(df.shape)\n",
    "        total_N = total_N + df.shape[0] - 1\n",
    "        # Filter the rows with df[1]==1\n",
    "        filtered_data = df[df[1].eq(1)]\n",
    "        siz = filtered_data.shape\n",
    "        # print the size after the subjects gave permission to use the data for research\n",
    "        print(siz)\n",
    "        total_N_permit = total_N_permit + siz[0]\n",
    "        # those who put 2, explicitly gave no permission\n",
    "        filtered_data_no = df[df[1].eq(2)]\n",
    "        total_N_nopermit = total_N_nopermit + filtered_data_no.shape[0]\n",
    "        \n",
    "        # Stored preprocessed data as CSV\n",
    "        if siz[1] == 88:\n",
    "            # if we are here columns 48-87 have the answers\n",
    "            data_columns=range(48,88)\n",
    "            bf_columns=range(1,48) # column 0 is not needed\n",
    "        else:\n",
    "            # if we are here, there are two extra columns, part of the intervention\n",
    "            data_columns=range(50,90)\n",
    "            bf_columns=range(1,50) # column 0 is not needed\n",
    "            \n",
    "        filtered_data.iloc[:,data_columns].to_csv('../results/preprocessed/DATA_'+filename.replace('xlsx','csv'),\n",
    "                                                  sep=';',\n",
    "                                                  na_rep='-1',\n",
    "                                                  encoding='utf-8', \n",
    "                                                  index=False,\n",
    "                                                  header=False)\n",
    "        filtered_data.iloc[:,bf_columns].to_csv('../results/preprocessed/BF_'+filename.replace('xlsx','csv'),\n",
    "                                                sep=';',\n",
    "                                                na_rep='-1',\n",
    "                                                encoding='utf-8', \n",
    "                                                index=False,\n",
    "                                                header=False)"
   ]
  },
  {
   "cell_type": "markdown",
   "metadata": {},
   "source": [
    "Total number of participants:"
   ]
  },
  {
   "cell_type": "code",
   "execution_count": 2,
   "metadata": {},
   "outputs": [
    {
     "name": "stdout",
     "output_type": "stream",
     "text": [
      "1817\n"
     ]
    }
   ],
   "source": [
    "print(total_N)"
   ]
  },
  {
   "cell_type": "markdown",
   "metadata": {},
   "source": [
    "Total number of participants who gave permission to use their answers for research purposes"
   ]
  },
  {
   "cell_type": "code",
   "execution_count": 3,
   "metadata": {},
   "outputs": [
    {
     "name": "stdout",
     "output_type": "stream",
     "text": [
      "1121\n"
     ]
    }
   ],
   "source": [
    "print(total_N_permit)"
   ]
  },
  {
   "cell_type": "markdown",
   "metadata": {},
   "source": [
    "Total number of participants who explicitly gave no permission:"
   ]
  },
  {
   "cell_type": "code",
   "execution_count": 4,
   "metadata": {},
   "outputs": [
    {
     "name": "stdout",
     "output_type": "stream",
     "text": [
      "132\n"
     ]
    }
   ],
   "source": [
    "print(total_N_nopermit)"
   ]
  },
  {
   "cell_type": "markdown",
   "metadata": {},
   "source": [
    "Total number of participants who gave or did not give permission"
   ]
  },
  {
   "cell_type": "code",
   "execution_count": 5,
   "metadata": {},
   "outputs": [
    {
     "name": "stdout",
     "output_type": "stream",
     "text": [
      "1253\n"
     ]
    }
   ],
   "source": [
    "print(total_N_permit + total_N_nopermit)"
   ]
  },
  {
   "cell_type": "markdown",
   "metadata": {},
   "source": [
    "Percentage of those who gave permission:"
   ]
  },
  {
   "cell_type": "code",
   "execution_count": 8,
   "metadata": {},
   "outputs": [
    {
     "name": "stdout",
     "output_type": "stream",
     "text": [
      "61.69510181618052\n",
      "89.46528332003193\n"
     ]
    }
   ],
   "source": [
    "print(total_N_permit/total_N*100)\n",
    "print(100*total_N_permit/(total_N_permit + total_N_nopermit))"
   ]
  }
 ],
 "metadata": {
  "kernelspec": {
   "display_name": "Python 3",
   "language": "python",
   "name": "python3"
  },
  "language_info": {
   "codemirror_mode": {
    "name": "ipython",
    "version": 3
   },
   "file_extension": ".py",
   "mimetype": "text/x-python",
   "name": "python",
   "nbconvert_exporter": "python",
   "pygments_lexer": "ipython3",
   "version": "3.8.5"
  }
 },
 "nbformat": 4,
 "nbformat_minor": 2
}
