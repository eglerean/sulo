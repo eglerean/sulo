{
 "cells": [
  {
   "cell_type": "markdown",
   "metadata": {},
   "source": [
    "# Descriptive statistics for SULO\n",
    "\n",
    "1. load each results/preprocessed/DATA\\* file\n",
    "2. Normalize the data\n",
    "3. Compute total scores\n",
    "4. Sort by factors\n",
    "5. Plot heatmap"
   ]
  },
  {
   "cell_type": "code",
   "execution_count": 1,
   "metadata": {
    "scrolled": true
   },
   "outputs": [],
   "source": [
    "import pandas as pd\n",
    "import numpy as np\n",
    "import scipy as sp\n",
    "import os\n",
    "import seaborn as sns; sns.set()\n",
    "import matplotlib.pyplot as plt\n",
    "import xlrd\n",
    "import re\n",
    "\n",
    "directory = os.fsencode('../results/preprocessed/')\n",
    "# questdata_location = \"https://docs.google.com/spreadsheets/d/1noblZmEJOm84o8Gca7ghre24VEqadK5ramcD25RMtic/export?format=xlsx\"\n",
    "questdata_location = 'questionnaire_and_answers.xlsx'\n",
    "questdata = pd.read_excel(questdata_location)\n",
    "perc=np.zeros((0,40));\n",
    "scores=np.zeros((0,40));\n",
    "backfact=np.zeros((0,6)); # site, age, sex, education, previously applied, previous app. in nursing\n",
    "allskipped=np.zeros((0,1))\n",
    "counter=0;\n",
    "\n",
    "total_excluded=0\n",
    "most_skipped=np.zeros(40)\n",
    "for file in sorted(os.listdir(directory)):\n",
    "    filename = os.fsdecode(file)\n",
    "    if filename.endswith(\".csv\") & filename.startswith(\"DATA\"): \n",
    "        # loading the file with NaNs as empty values\n",
    "        # print(f\"Processing {filename}\")\n",
    "        df = pd.read_csv('../results/preprocessed/'+filename, skip_blank_lines=False,header=None)\n",
    "        data=np.genfromtxt('../results/preprocessed/'+filename,delimiter=';')\n",
    "        \n",
    "        bf_filename=filename.replace(\"DATA\",\"BF\")\n",
    "        bdf = pd.read_csv('../results/preprocessed/'+bf_filename, sep=\";\", skip_blank_lines=False,header=None,dtype=object)\n",
    "\n",
    "        # Non-working solution:\n",
    "        # trueans=(data==1).astype(np.int); # ones are mapped to 1\n",
    "        # falseans=-1*(data==2).astype(np.int); # twos are mapped to -1\n",
    "        # ans=trueans+falseans # not enough \n",
    "        \n",
    "        \n",
    "        localscores=np.zeros((0,40))\n",
    "        for i in range(data.shape[0]): # for each subject\n",
    "            subjectdata=data[i]\n",
    "            tempbackfact=bdf.iloc[i,[1, 2, 3, 4, 16]] # age, sex, edu, prev, prev_nursing \n",
    "            subjbackfact=np.zeros(5);\n",
    "            for bfi in range(5):\n",
    "                strval=tempbackfact.iloc[bfi]\n",
    "                # get rid of spaces\n",
    "                strval=strval.replace(\" \",\"\")\n",
    "                # get rid of vuotias,vuotta,v\n",
    "                strval=strval.replace(\"vuotias\",\"\")\n",
    "                strval=strval.replace(\"vuotta\",\"\")\n",
    "                strval=strval.replace(\"v\",\"\")\n",
    "                # coding properly NaN\n",
    "                if strval == \"-1\":\n",
    "                    strval=\"0\"\n",
    "                # getting rid of weird stuff\n",
    "                if strval == \"--.--.----(--)\": # age redacted\n",
    "                    strval=\"21\";\n",
    "                if strval == \"358\":\n",
    "                    strval=\"0\"\n",
    "                # other strange chars\n",
    "                tempstr = strval.split('.');\n",
    "                strval = tempstr[0];\n",
    "                tempstr = strval.split('-');\n",
    "                strval = tempstr[0];\n",
    "                tempstr = strval.split('/');\n",
    "                strval = tempstr[0];\n",
    "                tempstr = strval.split(',');\n",
    "                strval = tempstr[0];\n",
    "                    \n",
    "                # final QC\n",
    "                isastring = re.search('[^\\d]', strval)\n",
    "                if isastring:\n",
    "                    print(\"BF: \"+str(bfi)+\" \"+strval)\n",
    "                    print(isastring)\n",
    "                else:\n",
    "                    subjbackfact[bfi]=int(strval)\n",
    "                    if subjbackfact[bfi] > 1930: # fixing those who put the year\n",
    "                        subjbackfact[bfi]=2019-subjbackfact[bfi]\n",
    "                    if subjbackfact[bfi]==0:\n",
    "                        subjbackfact[bfi]=np.nan\n",
    "                    if subjbackfact[0] < 18:\n",
    "                        print(\"Not an adult?\")\n",
    "                        print(tempbackfact)\n",
    "                    if subjbackfact[0] > 60:\n",
    "                        print(\"Over 60?\")\n",
    "                        print(tempbackfact)\n",
    "                    \n",
    "                \n",
    "            # process data\n",
    "            score_temp=0*subjectdata\n",
    "            skippedvec=np.zeros(40)\n",
    "            for n in range(40):\n",
    "                if((subjectdata[n]==1) & (questdata['Right'][n]==1)):\n",
    "                    score_temp[n] = 1\n",
    "                if((subjectdata[n]==1) & (questdata['Right'][n]==-1)):\n",
    "                    score_temp[n] = -1\n",
    "                if((subjectdata[n]==2) & (questdata['Right'][n]==1)):\n",
    "                    score_temp[n] = -1\n",
    "                if((subjectdata[n]==2) & (questdata['Right'][n]==-1)):\n",
    "                    score_temp[n] = 1\n",
    "                if(subjectdata[n]==3): # not sure\n",
    "                    score_temp[n] = 0\n",
    "                if(subjectdata[n]==- 1): # skipped items are computed later\n",
    "                    score_temp[n] = np.nan\n",
    "                    skippedvec[n] = 1\n",
    "                                \n",
    "            nskipped=np.sum(skippedvec)\n",
    "            allskipped=np.vstack([allskipped, nskipped]);\n",
    "            \n",
    "            if nskipped > 0:\n",
    "                # Uncomment below for interactive output\n",
    "                #print(\"One subject skipped \"+str(nskipped)+ \"questions\")\n",
    "                most_skipped = most_skipped + skippedvec;\n",
    "            \n",
    "            if nskipped > round(40*.80): # we exclude this participant if more than 80 % of items were skipped\n",
    "                total_excluded += 1\n",
    "            else:\n",
    "                # if we are here it is because it is a good subject\n",
    "                temp = np.insert(subjbackfact, 0, counter)\n",
    "                backfact=np.vstack([backfact, temp])\n",
    "                BFfilenameout=filename.replace(\"DATA\",\"BFVALS\");\n",
    "                np.savetxt('../results/scores/'+BFfilenameout,backfact,fmt=\"%2.0f\", delimiter=',')\n",
    "                scores=np.vstack([scores, score_temp]) # add to global scores\n",
    "                localscores=np.vstack([localscores, score_temp]) # add to local scores for plot\n",
    "                filenameout=filename.replace(\"DATA\",\"SCORES\");\n",
    "                np.savetxt('../results/scores/'+filenameout,localscores, fmt=\"%2.0f\",delimiter=',')\n",
    "        perc=np.vstack([perc, np.sum(localscores,0)/data.shape[0]]);\n",
    "        counter=counter+1;\n",
    "        \n"
   ]
  },
  {
   "cell_type": "code",
   "execution_count": 2,
   "metadata": {},
   "outputs": [
    {
     "data": {
      "text/plain": [
       "array([ 1.,  1.,  1.,  1.,  1.,  1.,  1.,  1., nan,  1., -1.,  1.,  1.,\n",
       "        1.,  1.,  1.,  1.,  1.,  1.,  1.,  1.,  1.,  1.,  1.,  1.,  1.,\n",
       "       -1.,  1.,  1.,  1.,  1.,  1.,  1.,  1.,  1.,  1.,  1.,  1.,  1.,\n",
       "        1.])"
      ]
     },
     "execution_count": 2,
     "metadata": {},
     "output_type": "execute_result"
    }
   ],
   "source": [
    "scores[8,:] # testing: showing data with missing values"
   ]
  },
  {
   "cell_type": "code",
   "execution_count": 3,
   "metadata": {},
   "outputs": [
    {
     "data": {
      "text/plain": [
       "array([ 1.,  1., -1.,  1.,  1.,  1.,  1., -1., -1.,  1.,  1.,  1.,  1.,\n",
       "        1.,  1.,  1.,  1.,  1.,  1.,  1.,  1., -1., -1.,  1.,  1.,  1.,\n",
       "        1.,  1.,  1.,  1., nan, nan, nan, nan, nan, nan, nan, nan, nan,\n",
       "       nan])"
      ]
     },
     "execution_count": 3,
     "metadata": {},
     "output_type": "execute_result"
    }
   ],
   "source": [
    "scores[17,:] # testing: showing data with missing values"
   ]
  },
  {
   "cell_type": "code",
   "execution_count": 4,
   "metadata": {},
   "outputs": [],
   "source": [
    "# Further processing\n",
    "\n",
    "# fixing NaN\n",
    "for n in range(40):\n",
    "    temp=scores[:,n]\n",
    "    tempMed=np.nanmedian(temp)\n",
    "    temp[np.isnan(temp)]=tempMed\n",
    "    "
   ]
  },
  {
   "cell_type": "code",
   "execution_count": 5,
   "metadata": {},
   "outputs": [
    {
     "data": {
      "text/plain": [
       "array([ 1.,  1.,  1.,  1.,  1.,  1.,  1.,  1.,  1.,  1., -1.,  1.,  1.,\n",
       "        1.,  1.,  1.,  1.,  1.,  1.,  1.,  1.,  1.,  1.,  1.,  1.,  1.,\n",
       "       -1.,  1.,  1.,  1.,  1.,  1.,  1.,  1.,  1.,  1.,  1.,  1.,  1.,\n",
       "        1.])"
      ]
     },
     "execution_count": 5,
     "metadata": {},
     "output_type": "execute_result"
    }
   ],
   "source": [
    "scores[8,:] # testing: showing data with missing values replaced with median"
   ]
  },
  {
   "cell_type": "code",
   "execution_count": 6,
   "metadata": {},
   "outputs": [
    {
     "data": {
      "text/plain": [
       "array([ 1.,  1., -1.,  1.,  1.,  1.,  1., -1., -1.,  1.,  1.,  1.,  1.,\n",
       "        1.,  1.,  1.,  1.,  1.,  1.,  1.,  1., -1., -1.,  1.,  1.,  1.,\n",
       "        1.,  1.,  1.,  1.,  1.,  1.,  1.,  1.,  1.,  1.,  1.,  1.,  1.,\n",
       "        1.])"
      ]
     },
     "execution_count": 6,
     "metadata": {},
     "output_type": "execute_result"
    }
   ],
   "source": [
    "scores[17,:] # testing: showing data with missing values replaced with median"
   ]
  },
  {
   "cell_type": "code",
   "execution_count": 7,
   "metadata": {},
   "outputs": [
    {
     "name": "stdout",
     "output_type": "stream",
     "text": [
      "Total subjects excluded: 6\n",
      "Times each question was skipped: [ 9.  8. 10.  6. 10.  8. 10. 10. 10.  9.  7.  9.  9.  7.  9. 10. 15. 11.\n",
      " 17. 12. 11. 13. 12. 14. 10. 14. 12. 14. 13. 11. 13. 12. 13. 15. 14. 16.\n",
      " 15. 18. 16. 16.]\n",
      "-----------\n",
      "Number of Skipped items, Number of participants who skipped \n",
      "0, 1041\n",
      "1, 43\n",
      "2, 12\n",
      "5, 10\n",
      "6, 1\n",
      "8, 1\n",
      "10, 4\n",
      "17, 1\n",
      "20, 2\n",
      "40, 6\n"
     ]
    }
   ],
   "source": [
    "# Further processing\n",
    "\n",
    "    \n",
    "\n",
    "\n",
    "# Dichotomizing scores\n",
    "scoresD = scores.copy();\n",
    "scoresD[np.where(scores == -1)] = 0;\n",
    "# sort by subscales\n",
    "scores_sorted = scores[:,questdata['SortedOrder'].astype(np.int)-1]\n",
    "perc_sorted = perc[:,questdata['SortedOrder'].astype(np.int)-1]\n",
    "scoresD_sorted = scoresD[:,questdata['SortedOrder'].astype(np.int)-1]\n",
    "classID = questdata['ClassID']\n",
    "classID_sorted = classID[questdata['SortedOrder'].astype(np.int)-1]\n",
    "\n",
    "\n",
    "\n",
    "# summaries\n",
    "print(f\"Total subjects excluded: {total_excluded}\")\n",
    "print(f\"Times each question was skipped: {most_skipped}\")\n",
    "unique, counts = np.unique(allskipped, return_counts=True)\n",
    "print(\"-----------\")\n",
    "print(\"Number of Skipped items, Number of participants who skipped \")\n",
    "for n in range(len(unique)):\n",
    "    print(f\"{unique[n]:.0f}, {counts[n]}\")\n",
    "\n"
   ]
  },
  {
   "cell_type": "code",
   "execution_count": 8,
   "metadata": {
    "scrolled": true
   },
   "outputs": [
    {
     "name": "stdout",
     "output_type": "stream",
     "text": [
      "Age distribution: min, 25th percentile, median, 75th percentile, max\n",
      "[18.  20.  21.5 27.  55. ]\n",
      "Age mean\n",
      "24.410649819494584\n",
      "24.410649819494584\n",
      "Age std\n",
      "7.117892891630485\n",
      "Num of subjects who did not want to disclose their age: 7\n",
      "Distribution of sex. Total num of subjects: 1115, M: 155(13.9%), F: 954(85.56%), n/a: 6(0.54%)\n"
     ]
    }
   ],
   "source": [
    "agedistr=np.nanpercentile(backfact[:,1],[0, 25, 50, 75, 100])\n",
    "agemedian=np.nanmedian(backfact[:,1])\n",
    "agemean=np.nanmean(backfact[:,1])\n",
    "allages=backfact[:,1]\n",
    "allages = allages[np.logical_not(np.isnan(allages))]\n",
    "agestd=np.std(allages)\n",
    "agemean2=np.mean(allages)\n",
    "print(\"Age distribution: min, 25th percentile, median, 75th percentile, max\")\n",
    "print(agedistr)\n",
    "print(\"Age mean\")\n",
    "print(agemean)\n",
    "print(agemean2)\n",
    "print(\"Age std\")\n",
    "print(agestd)\n",
    "\n",
    "preferenot=np.where(np.isnan(backfact[:,1]))[0].shape[0]\n",
    "print(\"Num of subjects who did not want to disclose their age: \"+str(preferenot))\n",
    "numtotalBF=backfact.shape[0]\n",
    "numtotalData=scores.shape[0]\n",
    "if numtotalBF != numtotalData:\n",
    "    print(\"Mismatch in number of subjects between data and BF\")\n",
    "males=np.where(backfact[:,2]==1)[0].shape[0]\n",
    "females=np.where(backfact[:,2]==2)[0].shape[0]\n",
    "preferenot=np.where(np.isnan(backfact[:,2]))[0].shape[0]\n",
    "print(\"Distribution of sex. Total num of subjects: \"+str(numtotalBF)+\", M: \"+str(males)+\"(\"+str(round(males/numtotalBF*10000)/100)+\"%), F: \"+str(females)+\"(\"+str(round(females/numtotalBF*10000)/100)+\"%), n/a: \"+str(preferenot)+\"(\"+str(round(preferenot/numtotalBF*10000)/100)+\"%)\")\n",
    "\n",
    "\n",
    "\n",
    "#bflabels=[\"Sex\", \"Education\", \"Previous app\", \"Previous app in nursing\"]\n",
    "#for i in range(4):\n",
    "#    print(\"----\")\n",
    "#    print(bflabels[i])\n",
    "#    temp = backfact[:,i+2]\n",
    "#    temp[np.isnan(temp)] = -1\n",
    "#    unique, counts = np.unique(temp, return_counts=True)\n",
    "#    print(np.asarray((unique, counts)).T)\n"
   ]
  },
  {
   "cell_type": "code",
   "execution_count": 9,
   "metadata": {},
   "outputs": [
    {
     "name": "stdout",
     "output_type": "stream",
     "text": [
      "Demographic information of participants (N = 1115(*))\n",
      "Variable, N, %, Range, Mean (SD)\n",
      "Age in years, 1108, , 18—55, 24.41(7.12)\n",
      "Sex, , , , \n",
      "   Female, 954, 86.0, , \n",
      "   Male, 155, 14.0, , \n",
      "Background education, , , , \n",
      "   High school, 596, 53.7, , \n",
      "   Vocational school, 514, 46.3, , \n",
      "Previous degree in higher education, , , , \n",
      "   Yes, 97, 8.8, , \n",
      "   No, 1007, 91.2, , \n",
      "Previous applications for nursing education, , , , \n",
      "   Yes, 452, 40.8, , \n",
      "   No, 655, 59.2, , \n",
      " , , , , \n",
      "(*) Missing values: Age in years (N = 7), gender (N = 6), background education (N = 5), previous degree in higher education (N = 11), previous applications for nursing education (N = 8).\n"
     ]
    }
   ],
   "source": [
    "# Printing the table for the manuscript as a CSV\n",
    "\n",
    "print(\"Demographic information of participants (N = \" + str(numtotalBF) + \"(*))\")\n",
    "\n",
    "print(\"Variable, N, %, Range, Mean (SD)\")\n",
    "# Age\n",
    "ageN = np.where(~np.isnan(backfact[:,1]))[0].shape[0];\n",
    "ageNmissing = np.where(np.isnan(backfact[:,1]))[0].shape[0];\n",
    "agemin = np.nanmin(backfact[:,1]) \n",
    "agemax = np.nanmax(backfact[:,1])\n",
    "agemean = np.nanmean(backfact[:,1])\n",
    "temp = backfact[:,1]\n",
    "temp = temp[np.logical_not(np.isnan(temp))]\n",
    "agestd = np.std(temp)\n",
    "print(f\"Age in years, {ageN}, , {agemin:.0f}—{agemax:.0f}, {agemean:.2f}({agestd:.2f})\")\n",
    "\n",
    "# Sex\n",
    "sexNmissing = np.where(np.isnan(backfact[:,2]))[0].shape[0]\n",
    "sexNm = np.where(backfact[:,2]==1)[0].shape[0]\n",
    "sexNf = np.where(backfact[:,2]==2)[0].shape[0]\n",
    "sexTot = sexNm + sexNf\n",
    "sexNmperc = 100*sexNm/sexTot\n",
    "sexNfperc = 100*sexNf/sexTot\n",
    "print(\"Sex, , , , \")\n",
    "print(f\"   Female, {sexNf:.0f}, {sexNfperc:.1f}, , \")\n",
    "print(f\"   Male, {sexNm:.0f}, {sexNmperc:.1f}, , \")\n",
    "\n",
    "\n",
    "\n",
    "# Background\n",
    "bkgNmissing = np.where(np.isnan(backfact[:,3]))[0].shape[0]\n",
    "bkgNhs = np.where(backfact[:,3]==1)[0].shape[0]\n",
    "bkgNvs = np.where(backfact[:,3]==2)[0].shape[0]\n",
    "bkgTot = bkgNhs + bkgNvs\n",
    "bkgNhsperc = 100*bkgNhs/bkgTot\n",
    "bkgNvsperc = 100*bkgNvs/bkgTot\n",
    "print(\"Background education, , , , \")\n",
    "print(f\"   High school, {bkgNhs:.0f}, {bkgNhsperc:.1f}, , \")\n",
    "print(f\"   Vocational school, {bkgNvs:.0f}, {bkgNvsperc:.1f}, , \")\n",
    "\n",
    "\n",
    "# Prev degree\n",
    "prevNmissing = np.where(np.isnan(backfact[:,4]))[0].shape[0]\n",
    "prevNy = np.where(backfact[:,4]==1)[0].shape[0]\n",
    "prevNn = np.where(backfact[:,4]==2)[0].shape[0]\n",
    "prevTot = prevNy + prevNn\n",
    "prevNyperc = 100*prevNy/prevTot\n",
    "prevNnperc = 100*prevNn/prevTot\n",
    "print(\"Previous degree in higher education, , , , \")\n",
    "print(f\"   Yes, {prevNy:.0f}, {prevNyperc:.1f}, , \")\n",
    "print(f\"   No, {prevNn:.0f}, {prevNnperc:.1f}, , \")\n",
    "\n",
    "\n",
    "# Prev application in nursing\n",
    "prevappNmissing = np.where(np.isnan(backfact[:,5]))[0].shape[0]\n",
    "prevappNy = np.where(backfact[:,5]==1)[0].shape[0]\n",
    "prevappNn = np.where(backfact[:,5]==2)[0].shape[0]\n",
    "prevappTot = prevappNy + prevappNn\n",
    "prevappNyperc = 100*prevappNy/prevappTot\n",
    "prevappNnperc = 100*prevappNn/prevappTot\n",
    "print(\"Previous applications for nursing education, , , , \")\n",
    "print(f\"   Yes, {prevappNy:.0f}, {prevappNyperc:.1f}, , \")\n",
    "print(f\"   No, {prevappNn:.0f}, {prevappNnperc:.1f}, , \")\n",
    "\n",
    "\n",
    "# Missing values\n",
    "print(\" , , , , \")\n",
    "print(f\"(*) Missing values: Age in years (N = {ageNmissing}), gender (N = {sexNmissing}), background education (N = {bkgNmissing}), previous degree in higher education (N = {prevNmissing}), previous applications for nursing education (N = {prevappNmissing}).\")\n"
   ]
  },
  {
   "cell_type": "markdown",
   "metadata": {},
   "source": [
    "## Storing the output\n",
    "\n",
    "Saving the results in \"results/scores\", and after that we continue with R."
   ]
  },
  {
   "cell_type": "code",
   "execution_count": 10,
   "metadata": {},
   "outputs": [],
   "source": [
    "# storing the output\n",
    "headerout = []\n",
    "headerout_sorted = []\n",
    "for i in range(40):\n",
    "    headerout.append('C'+str(classID[i])+'_Q'+str(i+1))\n",
    "\n",
    "for i in range(40):    \n",
    "    headerout_sorted.append(headerout[questdata['SortedOrder'][i]-1])\n",
    "\n",
    "headerout_sorted\n",
    "np.savetxt('../results/scores/scores.csv', scores, delimiter=',',header=', '.join(headerout), comments='')\n",
    "np.savetxt('../results/scores/scores_sorted.csv', scores_sorted,fmt=\"%2.0f\", delimiter=',',header=', '.join(headerout_sorted), comments='')\n",
    "np.savetxt('../results/scores/scoresD.csv', scoresD, delimiter=',',header=', '.join(headerout), comments='')\n",
    "np.savetxt('../results/scores/scoresD_sorted.csv', scoresD_sorted,fmt=\"%2.0f\", delimiter=',',header=', '.join(headerout_sorted), comments='')\n",
    "\n",
    "\n",
    "BFheader = ['Site','Age','Sex','Background','Previous education','Previous application']\n",
    "np.savetxt('../results/scores/background.csv', backfact, fmt=\"%2.0f\", delimiter=',',header=', '.join(BFheader), comments='')"
   ]
  },
  {
   "cell_type": "markdown",
   "metadata": {},
   "source": [
    "# Let's do some plotting"
   ]
  },
  {
   "cell_type": "code",
   "execution_count": 11,
   "metadata": {},
   "outputs": [
    {
     "data": {
      "text/plain": [
       "<AxesSubplot:>"
      ]
     },
     "execution_count": 11,
     "metadata": {},
     "output_type": "execute_result"
    },
    {
     "data": {
      "image/png": "[encoded data removed]",
      "text/plain": [
       "<Figure size 792x648 with 2 Axes>"
      ]
     },
     "metadata": {},
     "output_type": "display_data"
    }
   ],
   "source": [
    "# Items to items plot\n",
    "\n",
    "A=np.corrcoef(np.matrix.transpose(scoresD_sorted))\n",
    "mask = np.triu(np.ones_like(A, dtype=bool))\n",
    "\n",
    "# Set up the matplotlib figure\n",
    "f, ax = plt.subplots(figsize=(11, 9))\n",
    "\n",
    "# Generate a custom diverging colormap\n",
    "cmap = sns.diverging_palette(240, 10, n = 10)\n",
    "\n",
    "# Draw the heatmap with the mask and correct aspect ratio\n",
    "sns.heatmap(A, mask=mask, cmap=cmap, vmax=1, center=0,\n",
    "            square=True, linewidths=.5, cbar_kws={\"shrink\": .5}, xticklabels=headerout_sorted, yticklabels=headerout_sorted )"
   ]
  },
  {
   "cell_type": "markdown",
   "metadata": {},
   "source": [
    "# end"
   ]
  }
 ],
 "metadata": {
  "kernelspec": {
   "display_name": "Python 3",
   "language": "python",
   "name": "python3"
  },
  "language_info": {
   "codemirror_mode": {
    "name": "ipython",
    "version": 3
   },
   "file_extension": ".py",
   "mimetype": "text/x-python",
   "name": "python",
   "nbconvert_exporter": "python",
   "pygments_lexer": "ipython3",
   "version": "3.8.5"
  }
 },
 "nbformat": 4,
 "nbformat_minor": 2
}
